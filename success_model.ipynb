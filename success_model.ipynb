{
 "cells": [
  {
   "cell_type": "code",
   "execution_count": null,
   "metadata": {},
   "outputs": [],
   "source": [
    "import numpy as np\n",
    "from sklearn.preprocessing import StandardScaler  # for feature scaling\n",
    "from sklearn.model_selection import StratifiedGroupKFold  # for train/test split\n",
    "from sklearn.metrics import roc_curve\n",
    "from sklearn.linear_model import LogisticRegression\n",
    "from sklearn.utils import compute_class_weight"
   ]
  },
  {
   "cell_type": "code",
   "execution_count": null,
   "metadata": {},
   "outputs": [],
   "source": [
    "columns = ['patient_id', \n",
    "'avg_right_diff_eigen',\n",
    "'avg_diff_sink_idx',\n",
    "'avg_diff_source_infl',\n",
    "'avg_diff_sink_conn',\n",
    "'class',\n",
    "'label']"
   ]
  },
  {
   "cell_type": "markdown",
   "metadata": {},
   "source": [
    "Create a Pandas dataframe of these columns for the following model. We named it success_df for Engel 1 and failure_df for Engels 2-4, then combined into one dataframe"
   ]
  },
  {
   "cell_type": "code",
   "execution_count": null,
   "metadata": {},
   "outputs": [],
   "source": [
    "x = np.array(model_df.iloc[:,[1,2,3,4]])\n",
    "y = np.array(model_df['label'])\n",
    "ids = model_df['patient_id']"
   ]
  },
  {
   "cell_type": "code",
   "execution_count": null,
   "metadata": {},
   "outputs": [],
   "source": [
    "y_test_pred_optimal_all = np.zeros((int(model_df.shape[0]),3))\n",
    "y_test_all = np.zeros((int(model_df.shape[0]),3))\n",
    "y_test_pred_all = np.zeros((int(model_df.shape[0]),3))\n",
    "\n",
    "num_iterations = 10\n",
    "optimal_thresholds_all = np.zeros((num_iterations,3))\n",
    "num_classes = 2\n",
    "\n",
    "sss = StratifiedGroupKFold(n_splits=10) #10Fold Cross Validation\n",
    "for fold_idx, (train_index, test_index) in enumerate(sss.split(x, y, ids)):\n",
    "        x_train, x_test = x[train_index], x[test_index]\n",
    "        y_train, y_test = y[train_index], y[test_index]\n",
    "\n",
    "        test_df = model_df.iloc[test_index]\n",
    "\n",
    "        scaler = StandardScaler()\n",
    "        x_train = scaler.fit_transform(x_train)\n",
    "        x_test = scaler.transform(x_test)\n",
    "\n",
    "        #Fit training data\n",
    "        class_weights = compute_class_weight('balanced', classes=np.unique(y_train), y=y_train)\n",
    "        class_weight_dict = dict(zip(np.unique(y_train), class_weights))\n",
    "        logreg = LogisticRegression(max_iter = 10000, class_weight=class_weight_dict)\n",
    "        logreg.fit(x_train, y_train)\n",
    "\n",
    "        #Apply fit to the predicted fold\n",
    "        y_pred = logreg.predict(x_train)\n",
    "        y_prob = logreg.predict_proba(x_train)[:, 1]\n",
    "\n",
    "        fpr, tpr, thresholds = roc_curve(y_train, y_prob)\n",
    "\n",
    "        #Find optimal threshold\n",
    "        optimal_idx = np.argmax(tpr - fpr)\n",
    "        optimal_threshold = thresholds[optimal_idx]\n",
    "        optimal_thresholds_all[fold_idx] = optimal_threshold\n",
    "\n",
    "        #Testing\n",
    "        y_test_pred = logreg.predict_proba(x_test)[:, 1]\n",
    "        y_test_pred_optimal = (y_test_pred >= optimal_threshold).astype(int)\n",
    "\n"
   ]
  }
 ],
 "metadata": {
  "kernelspec": {
   "display_name": "base",
   "language": "python",
   "name": "python3"
  },
  "language_info": {
   "codemirror_mode": {
    "name": "ipython",
    "version": 3
   },
   "file_extension": ".py",
   "mimetype": "text/x-python",
   "name": "python",
   "nbconvert_exporter": "python",
   "pygments_lexer": "ipython3",
   "version": "3.11.4"
  }
 },
 "nbformat": 4,
 "nbformat_minor": 4
}
