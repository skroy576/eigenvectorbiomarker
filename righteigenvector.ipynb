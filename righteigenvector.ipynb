{
 "cells": [
  {
   "cell_type": "code",
   "execution_count": null,
   "metadata": {
    "tags": []
   },
   "outputs": [],
   "source": [
    "import numpy as np\n",
    "import matplotlib.pyplot as plt"
   ]
  },
  {
   "cell_type": "code",
   "execution_count": null,
   "metadata": {
    "tags": []
   },
   "outputs": [],
   "source": [
    "#calculate the leading right eigenvectors function\n",
    "def right_eigen(A, EZidx):\n",
    "    right_eigen_array = np.zeros((A.shape[0],A.shape[2]))\n",
    "    \n",
    "    for iteration in range(A.shape[2]):\n",
    "        #for every A matrix, take its absolute value and normalize\n",
    "        A_abs = np.abs(A[:,:,iteration])\n",
    "        A_norm = A_abs / np.max(A_abs)\n",
    "\n",
    "        #compute the leading right eigenvector of every A matrix\n",
    "        eigenvalues, right_eigenvectors = np.linalg.eig(A_norm)\n",
    "        leading_eigenvalue_index = np.argmax(np.abs(eigenvalues)) \n",
    "        leading_right_eigenvector = np.abs(right_eigenvectors[:, leading_eigenvalue_index])\n",
    "        right_eigen_array[:,iteration] = leading_right_eigenvector / np.max(leading_right_eigenvector)  \n",
    "\n",
    "    #find the average leading right eigenvector of all the A matrices\n",
    "    avg_right_eigen = np.mean(right_eigen_array,axis=1)\n",
    "    std_right_eigen = np.std(right_eigen_array,axis=1)\n",
    "\n",
    "    #store the eigenvalues of EZ channels and non-EZ channels\n",
    "    ez_right = avg_right_eigen[EZidx]\n",
    "    non_ez_right = avg_right_eigen[np.setdiff1d(np.arange(len(leading_right_eigenvector)), EZidx)]\n",
    "    ez_right_std = std_right_eigen[EZidx]\n",
    "    non_ez_right_std = std_right_eigen[np.setdiff1d(np.arange(len(leading_right_eigenvector)), EZidx)]\n",
    "\n",
    "    #find the average right eigenvalue of the EZ channels and the non-EZ channels, respectively\n",
    "    avg_right_ez = np.mean(ez_right)\n",
    "    avg_right_nonez = np.mean(non_ez_right)\n",
    "    std_right_ez = np.mean(ez_right_std)\n",
    "    std_right_nonez = np.mean(non_ez_right_std)\n",
    "\n",
    "    return avg_right_ez, avg_right_nonez, std_right_ez, std_right_nonez, right_eigen_array, avg_right_eigen, std_right_eigen, ezidx"
   ]
  }
 ],
 "metadata": {
  "kernelspec": {
   "display_name": "base",
   "language": "python",
   "name": "python3"
  },
  "language_info": {
   "codemirror_mode": {
    "name": "ipython",
    "version": 3
   },
   "file_extension": ".py",
   "mimetype": "text/x-python",
   "name": "python",
   "nbconvert_exporter": "python",
   "pygments_lexer": "ipython3",
   "version": "3.11.4"
  }
 },
 "nbformat": 4,
 "nbformat_minor": 4
}
