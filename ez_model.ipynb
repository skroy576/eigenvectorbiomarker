{
 "cells": [
  {
   "cell_type": "code",
   "execution_count": null,
   "metadata": {},
   "outputs": [],
   "source": [
    "import numpy as np\n",
    "import pandas as pd\n",
    "from sklearn.preprocessing import StandardScaler  # for feature scaling\n",
    "from sklearn.model_selection import LeaveOneGroupOut\n",
    "from sklearn.linear_model import LogisticRegression\n",
    "from sklearn.metrics import roc_curve"
   ]
  },
  {
   "cell_type": "code",
   "execution_count": null,
   "metadata": {},
   "outputs": [],
   "source": [
    "columns = [\n",
    "'patient_id',\n",
    "'avg_right_eigen',\n",
    "'avg_sink_idx',\n",
    "'avg_source_infl',\n",
    "'avg_sink_conn',\n",
    "'labels',\n",
    "'channel']"
   ]
  },
  {
   "cell_type": "markdown",
   "metadata": {},
   "source": [
    "Create a Pandas dataframe of these columns for the following model. We named it model_df"
   ]
  },
  {
   "cell_type": "code",
   "execution_count": null,
   "metadata": {},
   "outputs": [],
   "source": [
    "groups = model_df['patient_id']\n",
    "y_test_pred_optimal_all = np.zeros((int(model_df.shape[0]),3))\n",
    "y_test_all = np.zeros((int(model_df.shape[0]),3))\n",
    "y_test_pred_all = np.zeros((int(model_df.shape[0]),3))\n",
    "\n",
    "num_iterations = len(patients) #insert list of engel 1 patients here\n",
    "optimal_thresholds_all = np.zeros((num_iterations,3))\n",
    "num_classes = 2\n",
    "\n",
    "sss = LeaveOneGroupOut() #Leave One Out Cross Validation\n",
    "\n",
    "for fold_idx, (train_index, test_index) in enumerate(sss.split(x, y, groups)):\n",
    "\n",
    "    test_patient_ids = np.unique(groups[test_index])\n",
    "\n",
    "    x_train, x_test = x[train_index], x[test_index]\n",
    "    y_train, y_test = y[train_index], y[test_index]\n",
    "\n",
    "    train_data = pd.DataFrame(x_train)\n",
    "    train_data['labels'] = y_train\n",
    "    train_data_oversampled = train_data.groupby(groups[train_index]).apply(oversample_group).reset_index(drop=True) #oversample training data\n",
    "    \n",
    "    x_train_resampled = train_data_oversampled.drop(columns='labels').values\n",
    "    y_train_resampled = train_data_oversampled['labels'].values\n",
    "\n",
    "    x_train = x_train_resampled\n",
    "    y_train = y_train_resampled\n",
    "    \n",
    "    scaler = StandardScaler()\n",
    "    x_train = scaler.fit_transform(x_train)\n",
    "    x_test = scaler.transform(x_test)\n",
    "\n",
    "    #Run logistic regression on training data only to fit\n",
    "    logreg = LogisticRegression(max_iter=10000)\n",
    "    logreg.fit(x_train, y_train)\n",
    "\n",
    "    y_pred = logreg.predict(x_train)\n",
    "    y_prob = logreg.predict_proba(x_train)[:, 1]\n",
    "\n",
    "    #Find optimal threshold\n",
    "    fpr, tpr, thresholds = roc_curve(y_train, y_prob)\n",
    "    optimal_idx = np.argmax(tpr - fpr) #check if this is right\n",
    "    optimal_threshold = thresholds[optimal_idx]\n",
    "    optimal_thresholds_all[fold_idx] = optimal_threshold\n",
    "\n",
    "    #Predict test fold and apply the optimal decision threshold\n",
    "    y_test_pred = logreg.predict_proba(x_test)[:, 1]\n",
    "    y_test_pred_optimal = (y_test_pred >= optimal_threshold).astype(int)\n",
    "\n",
    "\n",
    "\n",
    "   \n"
   ]
  }
 ],
 "metadata": {
  "kernelspec": {
   "display_name": "base",
   "language": "python",
   "name": "python3"
  },
  "language_info": {
   "codemirror_mode": {
    "name": "ipython",
    "version": 3
   },
   "file_extension": ".py",
   "mimetype": "text/x-python",
   "name": "python",
   "nbconvert_exporter": "python",
   "pygments_lexer": "ipython3",
   "version": "3.11.4"
  }
 },
 "nbformat": 4,
 "nbformat_minor": 2
}
